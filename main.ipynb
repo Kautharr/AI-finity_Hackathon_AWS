{
 "cells": [
  {
   "cell_type": "code",
   "execution_count": 215,
   "id": "876d2bc8",
   "metadata": {},
   "outputs": [],
   "source": [
    "import pandas as pd"
   ]
  },
  {
   "cell_type": "code",
   "execution_count": 216,
   "id": "0de639da",
   "metadata": {
    "scrolled": false
   },
   "outputs": [
    {
     "data": {
      "text/html": [
       "<div>\n",
       "<style scoped>\n",
       "    .dataframe tbody tr th:only-of-type {\n",
       "        vertical-align: middle;\n",
       "    }\n",
       "\n",
       "    .dataframe tbody tr th {\n",
       "        vertical-align: top;\n",
       "    }\n",
       "\n",
       "    .dataframe thead th {\n",
       "        text-align: right;\n",
       "    }\n",
       "</style>\n",
       "<table border=\"1\" class=\"dataframe\">\n",
       "  <thead>\n",
       "    <tr style=\"text-align: right;\">\n",
       "      <th></th>\n",
       "      <th>Dehydration</th>\n",
       "      <th>Medicine Overdose</th>\n",
       "      <th>Acidious</th>\n",
       "      <th>Cold</th>\n",
       "      <th>Cough</th>\n",
       "      <th>Temperature</th>\n",
       "      <th>Heart Rate</th>\n",
       "      <th>Pulse</th>\n",
       "      <th>BPSYS</th>\n",
       "      <th>BPDIA</th>\n",
       "      <th>Respiratory Rate</th>\n",
       "      <th>Oxygen Saturation</th>\n",
       "      <th>PH</th>\n",
       "      <th>Causes Respiratory Imbalance</th>\n",
       "    </tr>\n",
       "  </thead>\n",
       "  <tbody>\n",
       "    <tr>\n",
       "      <th>0</th>\n",
       "      <td>1</td>\n",
       "      <td>0</td>\n",
       "      <td>0</td>\n",
       "      <td>1</td>\n",
       "      <td>0</td>\n",
       "      <td>99</td>\n",
       "      <td>196</td>\n",
       "      <td>94</td>\n",
       "      <td>98</td>\n",
       "      <td>57</td>\n",
       "      <td>26</td>\n",
       "      <td>0.90</td>\n",
       "      <td>3</td>\n",
       "      <td>1</td>\n",
       "    </tr>\n",
       "    <tr>\n",
       "      <th>1</th>\n",
       "      <td>1</td>\n",
       "      <td>1</td>\n",
       "      <td>0</td>\n",
       "      <td>0</td>\n",
       "      <td>0</td>\n",
       "      <td>103</td>\n",
       "      <td>170</td>\n",
       "      <td>135</td>\n",
       "      <td>96</td>\n",
       "      <td>84</td>\n",
       "      <td>48</td>\n",
       "      <td>0.98</td>\n",
       "      <td>1</td>\n",
       "      <td>2</td>\n",
       "    </tr>\n",
       "    <tr>\n",
       "      <th>2</th>\n",
       "      <td>1</td>\n",
       "      <td>1</td>\n",
       "      <td>1</td>\n",
       "      <td>0</td>\n",
       "      <td>0</td>\n",
       "      <td>96</td>\n",
       "      <td>171</td>\n",
       "      <td>169</td>\n",
       "      <td>95</td>\n",
       "      <td>97</td>\n",
       "      <td>40</td>\n",
       "      <td>0.96</td>\n",
       "      <td>13</td>\n",
       "      <td>2</td>\n",
       "    </tr>\n",
       "    <tr>\n",
       "      <th>3</th>\n",
       "      <td>0</td>\n",
       "      <td>0</td>\n",
       "      <td>1</td>\n",
       "      <td>0</td>\n",
       "      <td>0</td>\n",
       "      <td>98</td>\n",
       "      <td>85</td>\n",
       "      <td>69</td>\n",
       "      <td>106</td>\n",
       "      <td>79</td>\n",
       "      <td>16</td>\n",
       "      <td>1.00</td>\n",
       "      <td>8</td>\n",
       "      <td>3</td>\n",
       "    </tr>\n",
       "    <tr>\n",
       "      <th>4</th>\n",
       "      <td>0</td>\n",
       "      <td>1</td>\n",
       "      <td>0</td>\n",
       "      <td>0</td>\n",
       "      <td>0</td>\n",
       "      <td>99</td>\n",
       "      <td>78</td>\n",
       "      <td>69</td>\n",
       "      <td>106</td>\n",
       "      <td>70</td>\n",
       "      <td>16</td>\n",
       "      <td>0.99</td>\n",
       "      <td>8</td>\n",
       "      <td>2</td>\n",
       "    </tr>\n",
       "  </tbody>\n",
       "</table>\n",
       "</div>"
      ],
      "text/plain": [
       "   Dehydration  Medicine Overdose  Acidious  Cold   Cough  Temperature  \\\n",
       "0            1                  0         0      1      0           99   \n",
       "1            1                  1         0      0      0          103   \n",
       "2            1                  1         1      0      0           96   \n",
       "3            0                  0         1      0      0           98   \n",
       "4            0                  1         0      0      0           99   \n",
       "\n",
       "   Heart Rate  Pulse  BPSYS  BPDIA  Respiratory Rate  Oxygen Saturation  PH  \\\n",
       "0         196     94     98     57                26               0.90   3   \n",
       "1         170    135     96     84                48               0.98   1   \n",
       "2         171    169     95     97                40               0.96  13   \n",
       "3          85     69    106     79                16               1.00   8   \n",
       "4          78     69    106     70                16               0.99   8   \n",
       "\n",
       "   Causes Respiratory Imbalance  \n",
       "0                             1  \n",
       "1                             2  \n",
       "2                             2  \n",
       "3                             3  \n",
       "4                             2  "
      ]
     },
     "execution_count": 216,
     "metadata": {},
     "output_type": "execute_result"
    }
   ],
   "source": [
    "bucket='health-data-v1'\n",
    "data_key='health_data.csv'\n",
    "data_location= 's3://{}/{}/'.format(bucket, data_key)\n",
    "\n",
    "\n",
    "df = pd.read_csv(data_location)\n",
    "df.head()"
   ]
  },
  {
   "cell_type": "code",
   "execution_count": 217,
   "id": "435bd5b0",
   "metadata": {
    "scrolled": false
   },
   "outputs": [],
   "source": [
    "X=df[['Dehydration','Medicine Overdose','Acidious','Cough','Temperature','Heart Rate','Pulse','BPSYS','BPDIA','Respiratory Rate','Oxygen Saturation','PH']]\n",
    "y=df['Causes Respiratory Imbalance']"
   ]
  },
  {
   "cell_type": "code",
   "execution_count": 220,
   "id": "ee904b08",
   "metadata": {
    "scrolled": false
   },
   "outputs": [],
   "source": [
    "from sklearn.model_selection import train_test_split\n",
    "X_train, X_test, y_train, y_test = train_test_split(X, y, test_size=0.2, random_state=1)\n",
    "X_train, X_test, y_train, y_test = train_test_split(df[['SalePrice']], df['CentralAir'], test_size=0.2)"
   ]
  },
  {
   "cell_type": "code",
   "execution_count": 221,
   "id": "91228fd7",
   "metadata": {
    "scrolled": true
   },
   "outputs": [],
   "source": [
    "X_train, X_val, y_train, y_val = train_test_split(X_train, y_train, test_size=0.25, random_state=1)\n"
   ]
  },
  {
   "cell_type": "code",
   "execution_count": 222,
   "id": "4ddc30ee",
   "metadata": {},
   "outputs": [],
   "source": [
    "train = pd.concat([pd.Series(y_train, index=X_train.index) , X_train], axis=1)\n",
    "\n",
    "validation = pd.concat([pd.Series(y_val, index=X_val.index) , X_val], axis=1)\n",
    "\n",
    "test = pd.concat([pd.Series(y_test, index=X_test.index) , X_test], axis=1)"
   ]
  },
  {
   "cell_type": "code",
   "execution_count": 225,
   "id": "ba4c058a",
   "metadata": {},
   "outputs": [],
   "source": [
    "train.to_csv('train.csv', index=False, header=False)\n",
    "validation.to_csv('validation.csv', index=False, header=False)"
   ]
  },
  {
   "cell_type": "code",
   "execution_count": null,
   "id": "e7d0a8ae",
   "metadata": {},
   "outputs": [],
   "source": [
    "import sagemaker, boto3, os\n",
    "\n",
    "bucket='health-data-v1'\n",
    "prefix='sagemaker-xgboost-patient-prioritisation'\n",
    "\n",
    "boto3.Session().resource('s3').Bucket(bucket).Object(\n",
    "    os.path.join(prefix, 'data/train.csv')).upload_file('train.csv')\n",
    "boto3.Session().resource('s3').Bucket(bucket).Object(\n",
    "    os.path.join(prefix, 'data/validation.csv')).upload_file('validation.csv')"
   ]
  },
  {
   "cell_type": "markdown",
   "id": "f3a05f55",
   "metadata": {},
   "source": [
    "# Training the model"
   ]
  },
  {
   "cell_type": "code",
   "execution_count": null,
   "id": "fefd9152",
   "metadata": {},
   "outputs": [],
   "source": [
    "sagemaker.__version__"
   ]
  },
  {
   "cell_type": "code",
   "execution_count": null,
   "id": "30296e92",
   "metadata": {},
   "outputs": [],
   "source": [
    "import sagemaker\n",
    "\n",
    "region = sagemaker.Session().boto_region_name\n",
    "print(\"AWS Region: {}\".format(region))\n",
    "\n",
    "role = sagemaker.get_execution_role()\n",
    "print(\"RoleArn: {}\".format(role))"
   ]
  },
  {
   "cell_type": "code",
   "execution_count": null,
   "id": "f30220ec",
   "metadata": {},
   "outputs": [],
   "source": [
    "import sagemaker\n",
    "from sagemaker.debugger import Rule, rule_configs\n",
    "from sagemaker.session import TrainingInput\n",
    "import boto3\n",
    "from sagemaker import image_uris\n",
    "from sagemaker.session import Session\n",
    "\n",
    "s3_output_location='s3://{}/{}/{}'.format(bucket,prefix, 'xgboost_model')\n",
    "\n",
    "container = sagemaker.image_uris.retrieve(\"xgboost\", region, \"1.2-1\")\n",
    "print(container)\n",
    "\n",
    "xgb_model = sagemaker.estimator.Estimator(\n",
    "    image_uri=container,\n",
    "    role=role,\n",
    "    instance_count=1,\n",
    "    instance_type='ml.m5.xlarge',\n",
    "    volume_size=5,\n",
    "    output_path=s3_output_location,\n",
    "    sagemaker_session=sagemaker.Session(),\n",
    "    rules=[Rule.sagemaker(rule_configs.create_xgboost_report())]\n",
    ")"
   ]
  },
  {
   "cell_type": "code",
   "execution_count": 230,
   "id": "c3779bb1",
   "metadata": {},
   "outputs": [],
   "source": [
    "xgb_model.set_hyperparameters(\n",
    "        objective= 'multi:softmax',\n",
    "        eval_metric= 'merror',\n",
    "        num_class= 4,  \n",
    "        max_depth= 6,  \n",
    "        learning_rate= 0.1,  \n",
    "        num_round= 1000 \n",
    ")"
   ]
  },
  {
   "cell_type": "code",
   "execution_count": 231,
   "id": "9792666d",
   "metadata": {},
   "outputs": [],
   "source": [
    "from sagemaker.session import TrainingInput\n",
    "\n",
    "train_input = TrainingInput(\n",
    "    \"s3://{}/{}/{}\".format(bucket, prefix, \"data/train.csv\"), content_type=\"csv\"\n",
    ")\n",
    "\n",
    "validation_input = TrainingInput(\n",
    "    \"s3://{}/{}/{}\".format(bucket, prefix, \"data/validation.csv\"), content_type=\"csv\"\n",
    ")"
   ]
  },
  {
   "cell_type": "code",
   "execution_count": null,
   "id": "bd24d882",
   "metadata": {
    "scrolled": true
   },
   "outputs": [],
   "source": [
    "xgb_model.fit({\"train\": train_input, \"validation\": validation_input}, wait=True)"
   ]
  },
  {
   "cell_type": "code",
   "execution_count": null,
   "id": "0f293f39",
   "metadata": {},
   "outputs": [],
   "source": [
    "xgb_model.fit({\"train\": train_input, \"validation\": validation_input}, wait=True)"
   ]
  },
  {
   "cell_type": "code",
   "execution_count": null,
   "id": "0d6241b4",
   "metadata": {},
   "outputs": [],
   "source": [
    "rule_output_path = xgb_model.output_path + \"/\" + xgb_model.latest_training_job.name + \"/rule-output\"\n",
    "! aws s3 ls {rule_output_path} --recursive"
   ]
  },
  {
   "cell_type": "code",
   "execution_count": null,
   "id": "51d403ec",
   "metadata": {},
   "outputs": [],
   "source": [
    "! aws s3 cp {rule_output_path} ./ --recursive"
   ]
  },
  {
   "cell_type": "code",
   "execution_count": null,
   "id": "e129dd8f",
   "metadata": {},
   "outputs": [],
   "source": [
    "from IPython.display import FileLink, FileLinks\n",
    "display(\"Click link below to view the XGBoost Training report\", FileLink(\"CreateXgboostReport/xgboost_report.html\"))"
   ]
  },
  {
   "cell_type": "code",
   "execution_count": null,
   "id": "22345149",
   "metadata": {},
   "outputs": [],
   "source": [
    "xgb_model.model_data"
   ]
  },
  {
   "cell_type": "markdown",
   "id": "42ade098",
   "metadata": {},
   "source": [
    "# Deploying the model"
   ]
  },
  {
   "cell_type": "code",
   "execution_count": null,
   "id": "934770eb",
   "metadata": {},
   "outputs": [],
   "source": [
    "import sagemaker\n",
    "from sagemaker.serializers import CSVSerializer\n",
    "xgb_predictor=xgb_model.deploy(\n",
    "    initial_instance_count=1,\n",
    "    instance_type='ml.m5.xlarge',\n",
    "    serializer=CSVSerializer()\n",
    ")"
   ]
  },
  {
   "cell_type": "code",
   "execution_count": null,
   "id": "89888f07",
   "metadata": {},
   "outputs": [],
   "source": [
    "xgb_predictor.endpoint_name"
   ]
  },
  {
   "cell_type": "markdown",
   "id": "7854fa0b",
   "metadata": {},
   "source": [
    "# Evaluating the model"
   ]
  },
  {
   "cell_type": "code",
   "execution_count": 242,
   "id": "f68a0cfe",
   "metadata": {},
   "outputs": [],
   "source": [
    "import numpy as np\n",
    "def predict(data, rows=1000):\n",
    "    split_array = np.array_split(data, int(data.shape[0] / float(rows) + 1))\n",
    "    predictions = ''\n",
    "    for array in split_array:\n",
    "        predictions = ','.join([predictions, xgb_predictor.predict(array).decode('utf-8')])\n",
    "    return (np.fromstring(predictions[1:], sep=','))\n"
   ]
  },
  {
   "cell_type": "code",
   "execution_count": null,
   "id": "632beca8",
   "metadata": {},
   "outputs": [],
   "source": [
    "import numpy as np\n",
    "import matplotlib.pyplot as plt\n",
    "\n",
    "predictions = predict(test.to_numpy()[:,1:])\n",
    "# predictions_rounded = np.trunc(predictions).astype(int)\n",
    "# predictions_scaled = (predictions * 1000).astype(int) / 1000\n",
    "\n",
    "\n",
    "\n",
    "pred_str = np.char.mod('%d', predictions)  # convert the array to string format and remove the decimal point\n",
    "pred_int = pred_str.astype(int)  # convert the resulting string array to integer type\n",
    "\n",
    "plt.hist(pred_int)\n",
    "plt.show()"
   ]
  },
  {
   "cell_type": "code",
   "execution_count": null,
   "id": "0c532697",
   "metadata": {
    "scrolled": true
   },
   "outputs": [],
   "source": [
    "import sklearn\n",
    "\n",
    "cm = (sklearn.metrics.confusion_matrix(y_test, pred_int))\n",
    "print(sklearn.metrics.classification_report(y_test, pred_int, labels=[0,1,2,3]))"
   ]
  },
  {
   "cell_type": "code",
   "execution_count": null,
   "id": "18c9fa55",
   "metadata": {},
   "outputs": [],
   "source": [
    "import seaborn as sns\n",
    "import matplotlib.pyplot as plt\n",
    "\n",
    "sns. heatmap(cm, annot=True, cmap=\"Blues\", fmt=\"d\")\n",
    "\n",
    "plt.xlabel('Predicted labels')\n",
    "plt.ylabel ('True labels')\n",
    "plt.title ('Confusion Matrix')"
   ]
  },
  {
   "cell_type": "code",
   "execution_count": null,
   "id": "b1fe683a",
   "metadata": {},
   "outputs": [],
   "source": [
    "from sklearn.metrics import accuracy_score\n",
    "\n",
    "accuracy_score(y_test, pred_int)"
   ]
  }
 ],
 "metadata": {
  "kernelspec": {
   "display_name": "Python 3 (ipykernel)",
   "language": "python",
   "name": "python3"
  },
  "language_info": {
   "codemirror_mode": {
    "name": "ipython",
    "version": 3
   },
   "file_extension": ".py",
   "mimetype": "text/x-python",
   "name": "python",
   "nbconvert_exporter": "python",
   "pygments_lexer": "ipython3",
   "version": "3.9.12"
  }
 },
 "nbformat": 4,
 "nbformat_minor": 5
}
